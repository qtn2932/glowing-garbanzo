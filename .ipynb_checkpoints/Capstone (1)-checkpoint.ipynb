{
  "nbformat": 4,
  "nbformat_minor": 0,
  "metadata": {
    "kernelspec": {
      "display_name": "Python 3",
      "language": "python",
      "name": "python3"
    },
    "language_info": {
      "codemirror_mode": {
        "name": "ipython",
        "version": 3
      },
      "file_extension": ".py",
      "mimetype": "text/x-python",
      "name": "python",
      "nbconvert_exporter": "python",
      "pygments_lexer": "ipython3",
      "version": "3.7.6"
    },
    "colab": {
      "name": "Capstone.ipynb",
      "provenance": [],
      "collapsed_sections": []
    }
  },
  "cells": [
    {
      "cell_type": "code",
      "metadata": {
        "id": "ivS8xcdUd9XW",
        "outputId": "308fa565-c07b-4512-d167-224fd26d0270",
        "colab": {
          "base_uri": "https://localhost:8080/",
          "height": 368
        }
      },
      "source": [
        "# for saving preprocessing details\n",
        "import json \n",
        "# for data manipulation\n",
        "import pandas as pd\n",
        "import seaborn as sns\n",
        "import matplotlib.pyplot as plt\n",
        "import plotly.express as px\n",
        "\n",
        "# for saving algorithm and preprocessing objects\n",
        "import pickle\n",
        "\n",
        "# for preprocessing\n",
        "from sklearn.preprocessing import LabelEncoder  as le\n",
        "\n",
        "# for training the algorithm\n",
        "from sklearn.linear_model import LinearRegression as lr\n",
        "\n",
        "# instead of databas\n",
        "from airtable import airtable\n",
        "AIRTABLE_API_KEY ='keyK6OVfXMAmNkzYU'\n",
        "BASE_ID ='apps5lz4WY6pvpfX1'"
      ],
      "execution_count": null,
      "outputs": [
        {
          "output_type": "error",
          "ename": "ModuleNotFoundError",
          "evalue": "ignored",
          "traceback": [
            "\u001b[0;31m---------------------------------------------------------------------------\u001b[0m",
            "\u001b[0;31mModuleNotFoundError\u001b[0m                       Traceback (most recent call last)",
            "\u001b[0;32m<ipython-input-1-0e764054b727>\u001b[0m in \u001b[0;36m<module>\u001b[0;34m()\u001b[0m\n\u001b[1;32m     17\u001b[0m \u001b[0;34m\u001b[0m\u001b[0m\n\u001b[1;32m     18\u001b[0m \u001b[0;31m# instead of databas\u001b[0m\u001b[0;34m\u001b[0m\u001b[0;34m\u001b[0m\u001b[0;34m\u001b[0m\u001b[0m\n\u001b[0;32m---> 19\u001b[0;31m \u001b[0;32mfrom\u001b[0m \u001b[0mairtable\u001b[0m \u001b[0;32mimport\u001b[0m \u001b[0mairtable\u001b[0m\u001b[0;34m\u001b[0m\u001b[0;34m\u001b[0m\u001b[0m\n\u001b[0m\u001b[1;32m     20\u001b[0m \u001b[0mAIRTABLE_API_KEY\u001b[0m \u001b[0;34m=\u001b[0m\u001b[0;34m'keyK6OVfXMAmNkzYU'\u001b[0m\u001b[0;34m\u001b[0m\u001b[0;34m\u001b[0m\u001b[0m\n\u001b[1;32m     21\u001b[0m \u001b[0mBASE_ID\u001b[0m \u001b[0;34m=\u001b[0m\u001b[0;34m'apps5lz4WY6pvpfX1'\u001b[0m\u001b[0;34m\u001b[0m\u001b[0;34m\u001b[0m\u001b[0m\n",
            "\u001b[0;31mModuleNotFoundError\u001b[0m: No module named 'airtable'",
            "",
            "\u001b[0;31m---------------------------------------------------------------------------\u001b[0;32m\nNOTE: If your import is failing due to a missing package, you can\nmanually install dependencies using either !pip or !apt.\n\nTo view examples of installing some common dependencies, click the\n\"Open Examples\" button below.\n\u001b[0;31m---------------------------------------------------------------------------\u001b[0m\n"
          ]
        }
      ]
    },
    {
      "cell_type": "code",
      "metadata": {
        "id": "6G2x-5wcd9Xa"
      },
      "source": [
        "at= airtable.Airtable(BASE_ID,AIRTABLE_API_KEY)\n",
        "data = at.get('Imported table')['records']\n",
        "data[0]['fields']"
      ],
      "execution_count": null,
      "outputs": []
    },
    {
      "cell_type": "code",
      "metadata": {
        "id": "TSL-RcQqd9Xi"
      },
      "source": [
        "data_dict = {'No':[],'transaction_date':[], 'house_age':[], 'dist_nearest_MRTstation':[], 'num_convienience_store':[],'houseprice_per_unitarea':[]}"
      ],
      "execution_count": null,
      "outputs": []
    },
    {
      "cell_type": "code",
      "metadata": {
        "id": "-afhbb4Zd9X9"
      },
      "source": [
        "for d in data:\n",
        "    data_dict['No'].append(d['fields']['transaction_date'])\n",
        "    data_dict['transaction_date'].append(d['fields']['transaction_date'])\n",
        "    data_dict['house_age'].append(d['fields']['house_age'])\n",
        "    data_dict['dist_nearest_MRTstation'].append(d['fields']['dist_nearest_MRTstation'])\n",
        "    data_dict['num_convienience_store'].append(d['fields']['num_convienience_store'])\n",
        "    data_dict['houseprice_per_unitarea'].append(d['fields']['houseprice_per_unitarea'])"
      ],
      "execution_count": null,
      "outputs": []
    },
    {
      "cell_type": "code",
      "metadata": {
        "id": "Mcf-eXP4d9YB"
      },
      "source": [
        "df = pd.DataFrame(data=data_dict)"
      ],
      "execution_count": null,
      "outputs": []
    },
    {
      "cell_type": "code",
      "metadata": {
        "id": "BhPnY-uZd9YF"
      },
      "source": [
        "df=df.drop('No',axis=1)"
      ],
      "execution_count": null,
      "outputs": []
    },
    {
      "cell_type": "code",
      "metadata": {
        "id": "-Pn7XMnHd9YI"
      },
      "source": [
        "df= df[df['houseprice_per_unitarea']<100]"
      ],
      "execution_count": null,
      "outputs": []
    },
    {
      "cell_type": "code",
      "metadata": {
        "id": "khWy05ond9YM"
      },
      "source": [
        "df['transaction_date']= df['transaction_date'].apply(int)"
      ],
      "execution_count": null,
      "outputs": []
    },
    {
      "cell_type": "code",
      "metadata": {
        "id": "bDX4_AwUd9YS"
      },
      "source": [
        "train= df[df['transaction_date']==2012]\n",
        "test = df[df['transaction_date']==2013]\n",
        "\n",
        "target= 'houseprice_per_unitarea'\n",
        "y_train = train[target]\n",
        "y_test= test[target]\n",
        "\n",
        "features =[\"house_age\", \"dist_nearest_MRTstation\", \"num_convienience_store\"]\n",
        "X_train = train[features]\n",
        "X_test = test[features]"
      ],
      "execution_count": null,
      "outputs": []
    },
    {
      "cell_type": "code",
      "metadata": {
        "id": "GQYZpgWHd9YV"
      },
      "source": [
        "# eliminate missing (na) values\n",
        "X_train = X_train.dropna()"
      ],
      "execution_count": null,
      "outputs": []
    },
    {
      "cell_type": "code",
      "metadata": {
        "id": "v8M7Hopqd9YZ"
      },
      "source": [
        "# train the Random Forest algorithm\n",
        "model = lr()\n",
        "model = model.fit(X_train, y_train)"
      ],
      "execution_count": null,
      "outputs": []
    },
    {
      "cell_type": "code",
      "metadata": {
        "id": "b8H6Opv9d9Yd"
      },
      "source": [
        "# save preprocessing objects and RF algorithm\n",
        "\n",
        "filename='model.pkl'\n",
        "pickle.dump(knn, open(filename, 'wb')"
      ],
      "execution_count": null,
      "outputs": []
    },
    {
      "cell_type": "code",
      "metadata": {
        "id": "KfV46Huid9Yj"
      },
      "source": [
        "pred = model.predict([[19.5, 306.5947, 9]])\n",
        "pred"
      ],
      "execution_count": null,
      "outputs": []
    },
    {
      "cell_type": "code",
      "metadata": {
        "id": "HHbnu18ad9Yo"
      },
      "source": [
        ""
      ],
      "execution_count": null,
      "outputs": []
    },
    {
      "cell_type": "code",
      "metadata": {
        "id": "i7tOhpWUd9Yy"
      },
      "source": [
        ""
      ],
      "execution_count": null,
      "outputs": []
    }
  ]
}