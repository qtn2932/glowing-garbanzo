{
  "nbformat": 4,
  "nbformat_minor": 0,
  "metadata": {
    "kernelspec": {
      "display_name": "Python 3",
      "language": "python",
      "name": "python3"
    },
    "language_info": {
      "codemirror_mode": {
        "name": "ipython",
        "version": 3
      },
      "file_extension": ".py",
      "mimetype": "text/x-python",
      "name": "python",
      "nbconvert_exporter": "python",
      "pygments_lexer": "ipython3",
      "version": "3.7.6"
    },
    "colab": {
      "name": "Capstone.ipynb",
      "provenance": []
    }
  },
  "cells": [
    {
      "cell_type": "code",
      "metadata": {
        "id": "Kndhuirgmhux",
        "outputId": "f3897328-e841-4d08-8b03-89f4248c8083",
        "colab": {
          "base_uri": "https://localhost:8080/",
          "height": 255
        }
      },
      "source": [
        "!pip install airtable"
      ],
      "execution_count": 2,
      "outputs": [
        {
          "output_type": "stream",
          "text": [
            "Collecting airtable\n",
            "  Downloading https://files.pythonhosted.org/packages/a8/ef/8b2bee11988bb1b4df41454a999f855bd568a74b8b58fd92279bfb50fb56/airtable-0.3.1.tar.gz\n",
            "Requirement already satisfied: requests>=2.5.3 in /usr/local/lib/python3.6/dist-packages (from airtable) (2.23.0)\n",
            "Requirement already satisfied: urllib3!=1.25.0,!=1.25.1,<1.26,>=1.21.1 in /usr/local/lib/python3.6/dist-packages (from requests>=2.5.3->airtable) (1.24.3)\n",
            "Requirement already satisfied: chardet<4,>=3.0.2 in /usr/local/lib/python3.6/dist-packages (from requests>=2.5.3->airtable) (3.0.4)\n",
            "Requirement already satisfied: certifi>=2017.4.17 in /usr/local/lib/python3.6/dist-packages (from requests>=2.5.3->airtable) (2020.6.20)\n",
            "Requirement already satisfied: idna<3,>=2.5 in /usr/local/lib/python3.6/dist-packages (from requests>=2.5.3->airtable) (2.10)\n",
            "Building wheels for collected packages: airtable\n",
            "  Building wheel for airtable (setup.py) ... \u001b[?25l\u001b[?25hdone\n",
            "  Created wheel for airtable: filename=airtable-0.3.1-cp36-none-any.whl size=4189 sha256=11fd8d055498800cf46228b3919ecfd65ca4af1a5803be941428c18586df2a90\n",
            "  Stored in directory: /root/.cache/pip/wheels/9b/ba/63/364c02fabcd50ef6e2f101a57feb727bd7a693697765a9df17\n",
            "Successfully built airtable\n",
            "Installing collected packages: airtable\n",
            "Successfully installed airtable-0.3.1\n"
          ],
          "name": "stdout"
        }
      ]
    },
    {
      "cell_type": "code",
      "metadata": {
        "id": "JN5rvK8imVMa"
      },
      "source": [
        "# for saving preprocessing details\n",
        "import json \n",
        "# for data manipulation\n",
        "import pandas as pd\n",
        "import seaborn as sns\n",
        "import matplotlib.pyplot as plt\n",
        "import plotly.express as px\n",
        "\n",
        "# for saving algorithm and preprocessing objects\n",
        "import pickle \n",
        "\n",
        "# for preprocessing\n",
        "from sklearn.preprocessing import LabelEncoder  as le\n",
        "\n",
        "# for training the algorithm\n",
        "from sklearn.linear_model import LinearRegression as lr\n",
        "\n",
        "# instead of databas\n",
        "from airtable import airtable\n",
        "AIRTABLE_API_KEY ='keyK6OVfXMAmNkzYU'\n",
        "BASE_ID ='apps5lz4WY6pvpfX1'"
      ],
      "execution_count": 3,
      "outputs": []
    },
    {
      "cell_type": "code",
      "metadata": {
        "id": "_5lK-7mtmVMh",
        "outputId": "9f0cdd2e-0438-4927-ca73-bba5f631684f",
        "colab": {
          "base_uri": "https://localhost:8080/",
          "height": 119
        }
      },
      "source": [
        "at= airtable.Airtable(BASE_ID,AIRTABLE_API_KEY)\n",
        "data = at.get('Imported table')['records']\n",
        "data[0]['fields']"
      ],
      "execution_count": 4,
      "outputs": [
        {
          "output_type": "execute_result",
          "data": {
            "text/plain": [
              "OrderedDict([('No', 254),\n",
              "             ('transaction_date', 2012.667),\n",
              "             ('house_age', 30.4),\n",
              "             ('dist_nearest_MRTstation', 1735.595),\n",
              "             ('num_convienience_store', 2),\n",
              "             ('houseprice_per_unitarea', 25.9)])"
            ]
          },
          "metadata": {
            "tags": []
          },
          "execution_count": 4
        }
      ]
    },
    {
      "cell_type": "code",
      "metadata": {
        "id": "JDRHEVOnmVMm"
      },
      "source": [
        "data_dict = {'No':[],'transaction_date':[], 'house_age':[], 'dist_nearest_MRTstation':[], 'num_convienience_store':[],'houseprice_per_unitarea':[]}"
      ],
      "execution_count": 5,
      "outputs": []
    },
    {
      "cell_type": "code",
      "metadata": {
        "id": "srv7z1sdmVMr"
      },
      "source": [
        "for d in data:\n",
        "    data_dict['No'].append(d['fields']['transaction_date'])\n",
        "    data_dict['transaction_date'].append(d['fields']['transaction_date'])\n",
        "    data_dict['house_age'].append(d['fields']['house_age'])\n",
        "    data_dict['dist_nearest_MRTstation'].append(d['fields']['dist_nearest_MRTstation'])\n",
        "    data_dict['num_convienience_store'].append(d['fields']['num_convienience_store'])\n",
        "    data_dict['houseprice_per_unitarea'].append(d['fields']['houseprice_per_unitarea'])"
      ],
      "execution_count": 6,
      "outputs": []
    },
    {
      "cell_type": "code",
      "metadata": {
        "id": "jqJG0y8LmVMw"
      },
      "source": [
        "df = pd.DataFrame(data=data_dict)"
      ],
      "execution_count": 7,
      "outputs": []
    },
    {
      "cell_type": "code",
      "metadata": {
        "id": "iX3uh0d7mVM3"
      },
      "source": [
        "df=df.drop('No',axis=1)"
      ],
      "execution_count": 8,
      "outputs": []
    },
    {
      "cell_type": "code",
      "metadata": {
        "id": "TktcdRI9mVM-"
      },
      "source": [
        "df= df[df['houseprice_per_unitarea']<100]"
      ],
      "execution_count": 9,
      "outputs": []
    },
    {
      "cell_type": "code",
      "metadata": {
        "id": "vf00VWgnmVNK"
      },
      "source": [
        "df['transaction_date']= df['transaction_date'].apply(int)"
      ],
      "execution_count": 10,
      "outputs": []
    },
    {
      "cell_type": "code",
      "metadata": {
        "id": "xp92GLx3mVNN"
      },
      "source": [
        "train= df[df['transaction_date']==2012]\n",
        "test = df[df['transaction_date']==2013]\n",
        "\n",
        "target= 'houseprice_per_unitarea'\n",
        "y_train = train[target]\n",
        "y_test= test[target]\n",
        "\n",
        "features =[\"house_age\", \"dist_nearest_MRTstation\", \"num_convienience_store\"]\n",
        "X_train = train[features]\n",
        "X_test = test[features]"
      ],
      "execution_count": 11,
      "outputs": []
    },
    {
      "cell_type": "code",
      "metadata": {
        "id": "nNMSHMIXmVNS"
      },
      "source": [
        "# eliminate missing (na) values\n",
        "X_train = X_train.dropna()"
      ],
      "execution_count": 12,
      "outputs": []
    },
    {
      "cell_type": "code",
      "metadata": {
        "id": "0uC3Lno5mVNV"
      },
      "source": [
        "# train the Random Forest algorithm\n",
        "model = lr()\n",
        "model = model.fit(X_train, y_train)"
      ],
      "execution_count": 13,
      "outputs": []
    },
    {
      "cell_type": "code",
      "metadata": {
        "id": "sEGBg81imVNa"
      },
      "source": [
        "# save preprocessing objects and RF algorithm\n",
        "\n",
        "filename='model.pkl'\n",
        "pickle.dump(model, open(filename, 'wb'))"
      ],
      "execution_count": 16,
      "outputs": []
    },
    {
      "cell_type": "code",
      "metadata": {
        "id": "XofVzFEXmVNe"
      },
      "source": [
        "pred = model.predict([[19.5, 306.5947, 9]])\n",
        "pred"
      ],
      "execution_count": null,
      "outputs": []
    },
    {
      "cell_type": "code",
      "metadata": {
        "id": "_sR5o4_2mVNj"
      },
      "source": [
        ""
      ],
      "execution_count": null,
      "outputs": []
    },
    {
      "cell_type": "code",
      "metadata": {
        "id": "ym6eNKOTmVNo"
      },
      "source": [
        ""
      ],
      "execution_count": null,
      "outputs": []
    }
  ]
}